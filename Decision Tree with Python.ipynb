{
 "metadata": {
  "name": ""
 },
 "nbformat": 3,
 "nbformat_minor": 0,
 "worksheets": [
  {
   "cells": [
    {
     "cell_type": "heading",
     "level": 1,
     "metadata": {},
     "source": [
      "What is Decision Tree"
     ]
    },
    {
     "cell_type": "markdown",
     "metadata": {},
     "source": [
      "In a simple word, decision tree method help you construct a 'tree map' to make a decision. It is a method for approximating discrete-valued functions that is robust to noisy data and capable of learning disjunctive expressions. \n"
     ]
    },
    {
     "cell_type": "heading",
     "level": 2,
     "metadata": {},
     "source": [
      "How does it work"
     ]
    },
    {
     "cell_type": "markdown",
     "metadata": {},
     "source": [
      "Consider a very simple example: assume species in the world can all be grouped by mammals and non-mammals, but when a new scientist find a new species, how can we tell whether it is mammal or not mammal? \\n\n",
      "\n",
      "This is what I am going to do:\n",
      "\n",
      "    1. List many 'Yes' or 'No' questions that can help specify whether it is mammal or non-mammal, such as is the speceis cold or warm-blooded? If it is cold, definitely not mammal. By carefully crafting questions about the attributes of the test record we will have anwser to that. \n",
      "    2. Use these questions apply the new species scientists find and specify what it is exactly \n",
      "    \n",
      "Step 1 we create a model (questions), and feed historical data into the model to find the pattern (Yes or No lead to mammal or not mammal). After step 1, we have so called 'trained' model (yes or no patterned questions') and then we do forecasting with the new data. \n",
      "\n",
      "The tree has three types of nodes:\n",
      "\n",
      "    * A root node that has no incoming edges and zero or more outgoing edges\n",
      "    * Internal nodes, each of which has exactly one incoming edge and two or more outgoing edges\n",
      "    * Leaf or terminal nodes, each of which has exactly one incoming edge and no outgoing edges\n",
      "\n"
     ]
    },
    {
     "cell_type": "heading",
     "level": 2,
     "metadata": {},
     "source": [
      "How to build a decision tree"
     ]
    },
    {
     "cell_type": "markdown",
     "metadata": {},
     "source": [
      "Algorithm called 'ID3' is usually used for decision tree. It constructs decision trees top-down, begining with the questions \"which attribute should be tested at the root of the tree?\" To anwser this question, each attribute is evaluated using a statical test to determine how well it alone classifies the training examples. \n",
      "\n",
      "We used $\\"
     ]
    },
    {
     "cell_type": "heading",
     "level": 2,
     "metadata": {},
     "source": [
      "Core Mathematics"
     ]
    },
    {
     "cell_type": "heading",
     "level": 2,
     "metadata": {},
     "source": [
      "Example"
     ]
    },
    {
     "cell_type": "heading",
     "level": 1,
     "metadata": {},
     "source": [
      "Using Python To Model Decision Tree"
     ]
    },
    {
     "cell_type": "heading",
     "level": 2,
     "metadata": {},
     "source": [
      "Python Package"
     ]
    },
    {
     "cell_type": "heading",
     "level": 2,
     "metadata": {},
     "source": [
      "Example"
     ]
    }
   ],
   "metadata": {}
  }
 ]
}